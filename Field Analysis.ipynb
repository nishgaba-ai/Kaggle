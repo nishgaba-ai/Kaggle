{
 "cells": [
  {
   "cell_type": "markdown",
   "metadata": {},
   "source": [
    "# Naukri Lisitngs\n",
    "### Dataset available at Kaggle - https://www.kaggle.com/PromptCloudHQ/jobs-on-naukricom\n",
    "#### Created by 'Nishchal Gaba' (nishgaba9@gmail.com)(October 2017)\n",
    "#### GitHub: https://github.com/nishgaba-ai/Kaggle\n",
    "#### NOTE: The extensive analysis for some fields such as 'Job Description' might require techniques of Natural Language Processing (NLP) as they are not deemed necessary currently for this kernel version as well as the analysis of the trends in job payrates and postings"
   ]
  },
  {
   "cell_type": "code",
   "execution_count": 39,
   "metadata": {
    "collapsed": true
   },
   "outputs": [],
   "source": [
    "# Import files\n",
    "# NOTE: Some of the imported packages are not used, they are just used as usual imports\n",
    "import os\n",
    "import sys\n",
    "import numpy as np\n",
    "import matplotlib as plt\n",
    "import tensorflow as tf\n",
    "import time\n",
    "import random\n",
    "import math\n",
    "import pandas as pd\n",
    "import sklearn\n",
    "from scipy import misc\n",
    "import glob\n",
    "import pickle\n",
    "import re\n",
    "%matplotlib inline\n",
    "plt.pyplot.style.use('ggplot')"
   ]
  },
  {
   "cell_type": "markdown",
   "metadata": {},
   "source": [
    "### * Importing the dataset"
   ]
  },
  {
   "cell_type": "code",
   "execution_count": 2,
   "metadata": {
    "collapsed": true
   },
   "outputs": [],
   "source": [
    "dataSet = pd.read_csv('../input/naukri_com-job_sample.csv')"
   ]
  },
  {
   "cell_type": "markdown",
   "metadata": {},
   "source": [
    "### * An overview of the dataset"
   ]
  },
  {
   "cell_type": "code",
   "execution_count": 3,
   "metadata": {},
   "outputs": [
    {
     "name": "stdout",
     "output_type": "stream",
     "text": [
      "Number of columns : 14\n"
     ]
    },
    {
     "data": {
      "text/html": [
       "<div>\n",
       "<style>\n",
       "    .dataframe thead tr:only-child th {\n",
       "        text-align: right;\n",
       "    }\n",
       "\n",
       "    .dataframe thead th {\n",
       "        text-align: left;\n",
       "    }\n",
       "\n",
       "    .dataframe tbody tr th {\n",
       "        vertical-align: top;\n",
       "    }\n",
       "</style>\n",
       "<table border=\"1\" class=\"dataframe\">\n",
       "  <thead>\n",
       "    <tr style=\"text-align: right;\">\n",
       "      <th></th>\n",
       "      <th>company</th>\n",
       "      <th>education</th>\n",
       "      <th>experience</th>\n",
       "      <th>industry</th>\n",
       "      <th>jobdescription</th>\n",
       "      <th>jobid</th>\n",
       "      <th>joblocation_address</th>\n",
       "      <th>jobtitle</th>\n",
       "      <th>numberofpositions</th>\n",
       "      <th>payrate</th>\n",
       "      <th>postdate</th>\n",
       "      <th>site_name</th>\n",
       "      <th>skills</th>\n",
       "      <th>uniq_id</th>\n",
       "    </tr>\n",
       "  </thead>\n",
       "  <tbody>\n",
       "    <tr>\n",
       "      <th>0</th>\n",
       "      <td>MM Media Pvt Ltd</td>\n",
       "      <td>UG: B.Tech/B.E. - Any Specialization PG:Any Po...</td>\n",
       "      <td>0 - 1 yrs</td>\n",
       "      <td>Media / Entertainment / Internet</td>\n",
       "      <td>Job Description   Send me Jobs like this Quali...</td>\n",
       "      <td>210516002263</td>\n",
       "      <td>Chennai</td>\n",
       "      <td>Walkin Data Entry Operator (night Shift)</td>\n",
       "      <td>NaN</td>\n",
       "      <td>1,50,000 - 2,25,000 P.A</td>\n",
       "      <td>2016-05-21 19:30:00 +0000</td>\n",
       "      <td>NaN</td>\n",
       "      <td>ITES</td>\n",
       "      <td>43b19632647068535437c774b6ca6cf8</td>\n",
       "    </tr>\n",
       "    <tr>\n",
       "      <th>1</th>\n",
       "      <td>find live infotech</td>\n",
       "      <td>UG: B.Tech/B.E. - Any Specialization PG:MBA/PG...</td>\n",
       "      <td>0 - 0 yrs</td>\n",
       "      <td>Advertising / PR / MR / Event Management</td>\n",
       "      <td>Job Description   Send me Jobs like this Quali...</td>\n",
       "      <td>210516002391</td>\n",
       "      <td>Chennai</td>\n",
       "      <td>Work Based Onhome Based Part Time.</td>\n",
       "      <td>60.0</td>\n",
       "      <td>1,50,000 - 2,50,000 P.A. 20000</td>\n",
       "      <td>2016-05-21 19:30:00 +0000</td>\n",
       "      <td>NaN</td>\n",
       "      <td>Marketing</td>\n",
       "      <td>d4c72325e57f89f364812b5ed5a795f0</td>\n",
       "    </tr>\n",
       "    <tr>\n",
       "      <th>2</th>\n",
       "      <td>Softtech Career Infosystem Pvt. Ltd</td>\n",
       "      <td>UG: Any Graduate - Any Specialization PG:Any P...</td>\n",
       "      <td>4 - 8 yrs</td>\n",
       "      <td>IT-Software / Software Services</td>\n",
       "      <td>Job Description   Send me Jobs like this - as ...</td>\n",
       "      <td>101016900534</td>\n",
       "      <td>Bengaluru</td>\n",
       "      <td>Pl/sql Developer - SQL</td>\n",
       "      <td>NaN</td>\n",
       "      <td>Not Disclosed by Recruiter</td>\n",
       "      <td>2016-10-13 16:20:55 +0000</td>\n",
       "      <td>NaN</td>\n",
       "      <td>IT Software - Application Programming</td>\n",
       "      <td>c47df6f4cfdf5b46f1fd713ba61b9eba</td>\n",
       "    </tr>\n",
       "    <tr>\n",
       "      <th>3</th>\n",
       "      <td>Onboard HRServices LLP</td>\n",
       "      <td>UG: Any Graduate - Any Specialization PG:CA Do...</td>\n",
       "      <td>11 - 15 yrs</td>\n",
       "      <td>Banking / Financial Services / Broking</td>\n",
       "      <td>Job Description   Send me Jobs like this - Inv...</td>\n",
       "      <td>81016900536</td>\n",
       "      <td>Mumbai, Bengaluru, Kolkata, Chennai, Coimbator...</td>\n",
       "      <td>Manager/ad/partner - Indirect Tax - CA</td>\n",
       "      <td>NaN</td>\n",
       "      <td>Not Disclosed by Recruiter</td>\n",
       "      <td>2016-10-13 16:20:55 +0000</td>\n",
       "      <td>NaN</td>\n",
       "      <td>Accounts</td>\n",
       "      <td>115d28f140f694dd1cc61c53d03c66ae</td>\n",
       "    </tr>\n",
       "    <tr>\n",
       "      <th>4</th>\n",
       "      <td>Spire Technologies and Solutions Pvt. Ltd.</td>\n",
       "      <td>UG: B.Tech/B.E. - Any Specialization PG:Any Po...</td>\n",
       "      <td>6 - 8 yrs</td>\n",
       "      <td>IT-Software / Software Services</td>\n",
       "      <td>Job Description   Send me Jobs like this Pleas...</td>\n",
       "      <td>120916002122</td>\n",
       "      <td>Bengaluru</td>\n",
       "      <td>JAVA Technical Lead (6-8 yrs) -</td>\n",
       "      <td>4.0</td>\n",
       "      <td>Not Disclosed by Recruiter</td>\n",
       "      <td>2016-10-13 16:20:55 +0000</td>\n",
       "      <td>NaN</td>\n",
       "      <td>IT Software - Application Programming</td>\n",
       "      <td>a12553fc03bc7bcced8b1bb8963f97b4</td>\n",
       "    </tr>\n",
       "  </tbody>\n",
       "</table>\n",
       "</div>"
      ],
      "text/plain": [
       "                                      company  \\\n",
       "0                            MM Media Pvt Ltd   \n",
       "1                          find live infotech   \n",
       "2         Softtech Career Infosystem Pvt. Ltd   \n",
       "3                      Onboard HRServices LLP   \n",
       "4  Spire Technologies and Solutions Pvt. Ltd.   \n",
       "\n",
       "                                           education   experience  \\\n",
       "0  UG: B.Tech/B.E. - Any Specialization PG:Any Po...    0 - 1 yrs   \n",
       "1  UG: B.Tech/B.E. - Any Specialization PG:MBA/PG...    0 - 0 yrs   \n",
       "2  UG: Any Graduate - Any Specialization PG:Any P...    4 - 8 yrs   \n",
       "3  UG: Any Graduate - Any Specialization PG:CA Do...  11 - 15 yrs   \n",
       "4  UG: B.Tech/B.E. - Any Specialization PG:Any Po...    6 - 8 yrs   \n",
       "\n",
       "                                   industry  \\\n",
       "0          Media / Entertainment / Internet   \n",
       "1  Advertising / PR / MR / Event Management   \n",
       "2           IT-Software / Software Services   \n",
       "3    Banking / Financial Services / Broking   \n",
       "4           IT-Software / Software Services   \n",
       "\n",
       "                                      jobdescription         jobid  \\\n",
       "0  Job Description   Send me Jobs like this Quali...  210516002263   \n",
       "1  Job Description   Send me Jobs like this Quali...  210516002391   \n",
       "2  Job Description   Send me Jobs like this - as ...  101016900534   \n",
       "3  Job Description   Send me Jobs like this - Inv...   81016900536   \n",
       "4  Job Description   Send me Jobs like this Pleas...  120916002122   \n",
       "\n",
       "                                 joblocation_address  \\\n",
       "0                                            Chennai   \n",
       "1                                            Chennai   \n",
       "2                                          Bengaluru   \n",
       "3  Mumbai, Bengaluru, Kolkata, Chennai, Coimbator...   \n",
       "4                                          Bengaluru   \n",
       "\n",
       "                                   jobtitle  numberofpositions  \\\n",
       "0  Walkin Data Entry Operator (night Shift)                NaN   \n",
       "1        Work Based Onhome Based Part Time.               60.0   \n",
       "2                    Pl/sql Developer - SQL                NaN   \n",
       "3    Manager/ad/partner - Indirect Tax - CA                NaN   \n",
       "4           JAVA Technical Lead (6-8 yrs) -                4.0   \n",
       "\n",
       "                          payrate                   postdate site_name  \\\n",
       "0         1,50,000 - 2,25,000 P.A  2016-05-21 19:30:00 +0000       NaN   \n",
       "1  1,50,000 - 2,50,000 P.A. 20000  2016-05-21 19:30:00 +0000       NaN   \n",
       "2      Not Disclosed by Recruiter  2016-10-13 16:20:55 +0000       NaN   \n",
       "3      Not Disclosed by Recruiter  2016-10-13 16:20:55 +0000       NaN   \n",
       "4      Not Disclosed by Recruiter  2016-10-13 16:20:55 +0000       NaN   \n",
       "\n",
       "                                  skills                           uniq_id  \n",
       "0                                   ITES  43b19632647068535437c774b6ca6cf8  \n",
       "1                              Marketing  d4c72325e57f89f364812b5ed5a795f0  \n",
       "2  IT Software - Application Programming  c47df6f4cfdf5b46f1fd713ba61b9eba  \n",
       "3                               Accounts  115d28f140f694dd1cc61c53d03c66ae  \n",
       "4  IT Software - Application Programming  a12553fc03bc7bcced8b1bb8963f97b4  "
      ]
     },
     "execution_count": 3,
     "metadata": {},
     "output_type": "execute_result"
    }
   ],
   "source": [
    "# Dataset headers or column names\n",
    "heads = list(dataSet)\n",
    "print(\"Number of columns : \"+str(len(heads)))\n",
    "dataSet.head()"
   ]
  },
  {
   "cell_type": "code",
   "execution_count": 5,
   "metadata": {
    "collapsed": true
   },
   "outputs": [],
   "source": [
    "# Dissecting the dataset\n",
    "#This dataset has following fields: (Ref: https://www.kaggle.com/PromptCloudHQ/jobs-on-naukricom)\n",
    "\n",
    "#    company\n",
    "#    education\n",
    "#    experience\n",
    "#    industry\n",
    "#    job description\n",
    "#    jobid\n",
    "#    joblocation_address\n",
    "#    job title\n",
    "#    number of positions\n",
    "#    pay rate\n",
    "#    postdate\n",
    "#    site_name\n",
    "#    skills\n",
    "#    uniq_id\n",
    "\n",
    "\n",
    "\n"
   ]
  },
  {
   "cell_type": "markdown",
   "metadata": {},
   "source": [
    "### * Need for preprocessing"
   ]
  },
  {
   "cell_type": "code",
   "execution_count": 6,
   "metadata": {
    "collapsed": true
   },
   "outputs": [],
   "source": [
    "# When we try to do Pattern Recognition or Corelation Analysis, we have to consider what fields to use in them\n",
    "# Also what kind of changes we have to make in a field for it to be used to in the data analysis\n",
    "# Some fields might require parsing to convert the human language into a statistical value or even a category\n",
    "\n",
    "# NOTE:\n",
    "### We will be looking at each field individually to understand the techniques for data processing\n",
    "### This will help to learn how a particular type of data is turned into an input for Machine Learning Algorithms"
   ]
  },
  {
   "cell_type": "markdown",
   "metadata": {},
   "source": [
    "#### Field 1 - Company Name"
   ]
  },
  {
   "cell_type": "code",
   "execution_count": 4,
   "metadata": {},
   "outputs": [
    {
     "name": "stdout",
     "output_type": "stream",
     "text": [
      "company\n",
      "<class 'str'>\n",
      "MM Media Pvt Ltd\n"
     ]
    }
   ],
   "source": [
    "# Field-1\n",
    "# Company Name\n",
    "print(heads[0])\n",
    "print(type(heads[0]))\n",
    "\n",
    "# An example name looks like\n",
    "print(dataSet[heads[0]][0])\n",
    "\n",
    "\n",
    "# Suggested Use:\n",
    "### We can use it for individual company analytics as there is no industry mentioned for the company as well\n",
    "### To classify it into some kind of sector e.g. Steel Sector, IT Sector\n",
    "### Hence, for Analysis of trends in payrates, or salaries based on experience, this field can be skipped\n",
    "### Principal Component Analysis (PCA) is used for the dimensionality-reduction in statistics, but as this field is a string\n",
    "### We either have to declare numerical counterparts for such fields before including them in statistical analysis\n",
    "### or We can do company wise analysis as mentioned earlier\n",
    "\n",
    "# If you check out some data mining books, such data without any order is  'categorical' data"
   ]
  },
  {
   "cell_type": "markdown",
   "metadata": {
    "collapsed": true
   },
   "source": [
    "#### Field 2 - Education"
   ]
  },
  {
   "cell_type": "code",
   "execution_count": 5,
   "metadata": {},
   "outputs": [
    {
     "name": "stdout",
     "output_type": "stream",
     "text": [
      "education\n",
      "<class 'str'>\n",
      "UG: B.Tech/B.E. - Any Specialization PG:Any Postgraduate - Any Specialization, Post Graduation Not Required\n"
     ]
    }
   ],
   "source": [
    "# Field-2\n",
    "# Education\n",
    "print(heads[1])\n",
    "print(type(heads[1]))\n",
    "\n",
    "# An example name looks like\n",
    "print(dataSet[heads[1]][0])\n",
    "\n",
    "\n",
    "# Suggested Use:\n",
    "### This is a string as well, but this needs to be 'parsed' into different skills and can be useful for the dataset\n",
    "### Education skills for Under Graduate(UG) and Post Graduate(PG) can help form a trend analysis to see\n",
    "### which skills have the highest pay, or are in demand\n",
    "### This would be a 'categorical' data as well,\n",
    "### Because, e.g. Jobs for Computers and Media Technology may be different but they don't bear a rank among themselves\n",
    "\n",
    "\n",
    "# We take 'any' as a catergory as well, but its semantic meaning implies to the requirements mentioned in the particular job post\n",
    "# Parsing the data to extract the skills for both UG and PG\n",
    "# 'UG' and 'PG' are both followed by ':' which makes it a good first candidate for splitting between the Two parts of strings\n",
    "# As they are different levels of qualification\n",
    "\n",
    "# NOTE: The Analysis and preprocessing for this field will be released in the upcoming kernel very soon"
   ]
  },
  {
   "cell_type": "markdown",
   "metadata": {},
   "source": [
    "#### Field 3 - Experience"
   ]
  },
  {
   "cell_type": "code",
   "execution_count": 73,
   "metadata": {},
   "outputs": [
    {
     "name": "stdout",
     "output_type": "stream",
     "text": [
      "experience\n",
      "<class 'str'>\n",
      "\n",
      "Before Processing: \n",
      "1 - 3 yrs\n",
      "\n",
      "After Processing: \n",
      "['1', '3']\n"
     ]
    }
   ],
   "source": [
    "# Field-3\n",
    "# Experience\n",
    "print(heads[2])\n",
    "print(type(heads[2]))\n",
    "\n",
    "# An example name looks like\n",
    "print(\"\\nBefore Processing: \")\n",
    "print(dataSet[heads[2]][10])\n",
    "\n",
    "# We process this field and now get the splits based on \"-\" and replace everything not a digit\n",
    "exp = []\n",
    "for i in range(len(dataSet)):\n",
    "    exp.append(((str(dataSet[heads[2]][i])).replace(\" \",\"\")).split(\"-\"))\n",
    "    \n",
    "for i in range(len(exp)):\n",
    "    for j in range(len(exp[i])):\n",
    "        exp[i][j] = re.sub(r'[^0-9]','',exp[i][j])\n",
    "# An Example after processing\n",
    "print(\"\\nAfter Processing: \")\n",
    "print(exp[10])"
   ]
  },
  {
   "cell_type": "markdown",
   "metadata": {},
   "source": [
    "#### Field 4 - Industry"
   ]
  },
  {
   "cell_type": "code",
   "execution_count": 33,
   "metadata": {},
   "outputs": [
    {
     "name": "stdout",
     "output_type": "stream",
     "text": [
      "industry\n",
      "<class 'str'>\n",
      "Media / Entertainment / Internet\n",
      "22000\n",
      "['FMCG', 'Foods', 'Beverage']\n"
     ]
    }
   ],
   "source": [
    "# Field-4\n",
    "# Industry\n",
    "print(heads[3])\n",
    "print(type(heads[3]))\n",
    "\n",
    "# An example name looks like\n",
    "print(dataSet[heads[3]][0])\n",
    "\n",
    "# Storing the Industries for different jobs, splitting with \"/\" and \" \" and removing all spaces using 'replace', otherwise they would occur in the list\n",
    "### NOTE: The dataSet in this field had one object being recognized as float, hence we have to str() the field\n",
    "### inspite of it being a 'str' type field, we will be able to filter out that number when we try to see,\n",
    "### the categories of industries involved, as we will produce different industries and their number of occurences\n",
    "Industry=[]\n",
    "for i in range(len(dataSet)):\n",
    "    Industry.append(((str(dataSet[heads[3]][i])).replace(\" \",\"\")).split(\"/\"))\n",
    "print(len(Industry))\n",
    "\n",
    "# an example of how the industries currently look like\n",
    "print(Industry[10])"
   ]
  },
  {
   "cell_type": "markdown",
   "metadata": {},
   "source": [
    "#### Field 5 - Job Description"
   ]
  },
  {
   "cell_type": "code",
   "execution_count": 9,
   "metadata": {},
   "outputs": [
    {
     "name": "stdout",
     "output_type": "stream",
     "text": [
      "jobdescription\n",
      "<class 'str'>\n",
      "Job Description   Send me Jobs like this Qualifications: - == > 10th To Graduation & Any Skill: - == > Basic Computer Knowledge Job Requirement : - == > System or Laptop Type of job: - == > Full Time or Part time Languages : - == > Tamil & English. Experience : - == > Freshers & Experience payment details: - 1 form per day 5/- 10 form per day 50/- 100 form per day 500/- monthly you can earn 15000/- per month Selection Process: - == > Easy Selection Process,So What Are You Waiting For? Apply Now & Grab Best Opportunity To Make Your Carrier & To Improve Your Earing Skills. More detail contact Mr Hari 8678902528 9003010282 Salary:INR 1,50,000 - 2,25,000 P.A Industry: Media / Entertainment / Internet Functional Area: ITES , BPO , KPO , LPO , Customer Service , Operations Role Category:Other Role:Fresher Keyskills English Typing Part Time Data Entry Selection Process Desired Candidate Profile Education- UG: B.Tech/B.E. - Any Specialization PG:Any Postgraduate - Any Specialization, Post Graduation Not Required Please refer to the Job description above Company Profile: MM Media Pvt Ltd Mass Media International Find Live Info Pvt Ltd DATA SERVICES is established in the year 2012 with a vision of transforming an ordinary to extra ordinary thing. Find live info is one of our main project, it is a developing search engine site based at Chennai, India. With years of experience, we have crafted massive data collection job opportunities for public. FIND LIVE INFO a blend of experience, imagination, strategy and action to create digital experience that excite, challenge, inspire and engage users. FIND LIVE INFO provides other business opportunities which will be handled by experts of various fields. We have interesting combination of young and experienced Specialists Under the guidance of our Top Management we bloom towards success More detail contect 8678902528 Download PPT Photo 1   View Contact Details\n"
     ]
    }
   ],
   "source": [
    "# Field-5\n",
    "# Job Description\n",
    "print(heads[4])\n",
    "print(type(heads[4]))\n",
    "\n",
    "# An example name looks like\n",
    "print(dataSet[heads[4]][0])\n",
    "\n",
    "# This is a whole description about the job post,which may have relevant information\n",
    "# By first look ,  : - == > , may seem like a separator for parsing, but if we look closely, the field description before it is \n",
    "# mixed with the next field name, e.g. Knowledge Job Requirement : - == > System or Laptop Type of job: - == > Full Time or Part time\n",
    "# Here, Job Requirement seems like a possible field and Type of Job, but they are both together\n",
    "# To clean the data, we would require the NLP(Natural Language Processing) after initial cleaning\n",
    "# which may be implemented in the upcoming versions of this kernel"
   ]
  },
  {
   "cell_type": "markdown",
   "metadata": {},
   "source": [
    "#### Field 6 - Job Id"
   ]
  },
  {
   "cell_type": "code",
   "execution_count": 37,
   "metadata": {},
   "outputs": [
    {
     "name": "stdout",
     "output_type": "stream",
     "text": [
      "jobid\n",
      "<class 'str'>\n",
      "210516002263\n",
      "[0]\n"
     ]
    }
   ],
   "source": [
    "# Field-6\n",
    "# Job Id\n",
    "print(heads[5])\n",
    "print(type(heads[5]))\n",
    "\n",
    "# An example name looks like\n",
    "print(dataSet[heads[5]][0])\n",
    "\n",
    "# Job Id is useful to search for the job using this number, but for analysis, it can serve the same purpose, as locating\n",
    "# a particular job column\n",
    "# An example of finding the index of a job based on the 'jobid' and this index can be used in other columns to find this record\n",
    "# Although we know the index would be one, but may be due to duplicacy in data, with some different field values for only one or two columns\n",
    "# The jobs would not be seen as identical by duplicacy removal programs everytime, and hence it may be more than 1 index too\n",
    "# So we safely turn it into a list so that there is no disurption in the running of the program\n",
    "idx = dataSet.jobid[dataSet.jobid == 210516002263].index.tolist()\n",
    "print(idx)"
   ]
  },
  {
   "cell_type": "markdown",
   "metadata": {},
   "source": [
    "#### Field 7 - Job Location Address"
   ]
  },
  {
   "cell_type": "code",
   "execution_count": 32,
   "metadata": {},
   "outputs": [
    {
     "name": "stdout",
     "output_type": "stream",
     "text": [
      "joblocation_address\n",
      "<class 'str'>\n",
      "Chennai\n",
      "Mumbai, Delhi, Bengaluru\n",
      "22000\n",
      "['Mumbai', 'Delhi', 'Bengaluru']\n"
     ]
    }
   ],
   "source": [
    "# Field-7\n",
    "# Job Location Address\n",
    "print(heads[6])\n",
    "print(type(heads[6]))\n",
    "\n",
    "# An example name looks like\n",
    "print(dataSet[heads[6]][0])\n",
    "print(dataSet[heads[6]][10]) # It can contain multiple locations too, so we have to use the splitting again using ','\n",
    "\n",
    "# Locations list\n",
    "Locations=[]\n",
    "for i in range(len(dataSet)):\n",
    "    Locations.append(((str(dataSet[heads[6]][i])).replace(\" \",\"\")).split(\",\"))\n",
    "print(len(Locations))\n",
    "# An Example of Locations list\n",
    "print(Locations[10])"
   ]
  },
  {
   "cell_type": "markdown",
   "metadata": {},
   "source": [
    "#### Field 8 - Job title"
   ]
  },
  {
   "cell_type": "code",
   "execution_count": 21,
   "metadata": {},
   "outputs": [
    {
     "name": "stdout",
     "output_type": "stream",
     "text": [
      "jobtitle\n",
      "<class 'str'>\n",
      "Walkin Data Entry Operator (night Shift)\n",
      "Customer Support Executive , Call Center BPO , Dayshift , Day Shift\n"
     ]
    }
   ],
   "source": [
    "# Field-8\n",
    "# Job Title\n",
    "print(heads[7])\n",
    "print(type(heads[7]))\n",
    "\n",
    "# An example name looks like\n",
    "print(dataSet[heads[7]][0])\n",
    "print(dataSet[heads[7]][200])\n",
    "\n",
    "# Another field, requiring cleaning and understanding the structure, hence skipped for current analysis\n",
    "### As can be seen in the two examples printed, it varies heavily on the job poster and sometimes is full of information\n",
    "### not belonging to this field\n",
    "### e.g. Day Shift is the type of Job, and it is mentioned twice in this example as dayshift, Day Shift"
   ]
  },
  {
   "cell_type": "markdown",
   "metadata": {},
   "source": [
    "#### Field 9 - Number of Positions"
   ]
  },
  {
   "cell_type": "code",
   "execution_count": 42,
   "metadata": {},
   "outputs": [
    {
     "name": "stdout",
     "output_type": "stream",
     "text": [
      "numberofpositions\n",
      "<class 'str'>\n",
      "nan\n",
      "Number of Disclosed Positions: 201402.0\n"
     ]
    }
   ],
   "source": [
    "# Field-9\n",
    "# Number of Positions\n",
    "print(heads[8])\n",
    "print(type(heads[8]))\n",
    "\n",
    "# An example name looks like\n",
    "print(dataSet[heads[8]][0])\n",
    "\n",
    "\n",
    "# Number of disclosed job postings\n",
    "# Although the class is string, when passed to np.nansum, it will be parsed to its equivalent float value\n",
    "# nansum treats NaN as zero\n",
    "print(\"Number of Disclosed Positions: \"+str(np.nansum(dataSet['numberofpositions'])))"
   ]
  },
  {
   "cell_type": "markdown",
   "metadata": {},
   "source": [
    "#### Field 10 - Pay Rate"
   ]
  },
  {
   "cell_type": "code",
   "execution_count": 70,
   "metadata": {},
   "outputs": [
    {
     "name": "stdout",
     "output_type": "stream",
     "text": [
      "payrate\n",
      "<class 'str'>\n",
      "1,50,000 - 2,25,000 P.A\n",
      "22000\n",
      "\n",
      "Before Processing: \n",
      "['1,50,000 ', ' 2,25,000 P.A']\n",
      "['Not Disclosed by Recruiter']\n",
      "\n",
      "After Processing: \n",
      "['150000', '225000']\n",
      "['']\n"
     ]
    }
   ],
   "source": [
    "# Field-10\n",
    "# Pay Rate\n",
    "print(heads[9])\n",
    "print(type(heads[9]))\n",
    "\n",
    "# An example name looks like\n",
    "print(dataSet[heads[9]][0])\n",
    "\n",
    "# Lets split the salaries first with '-' later, we can replace everything except numbers with \"\"\n",
    "payrates=[]\n",
    "for i in range(len(dataSet)):\n",
    "    payrates.append(((str(dataSet[heads[9]][i]))).split(\"-\"))\n",
    "\n",
    "print(len(payrates))\n",
    "# An Example of payrates list\n",
    "print(\"\\nBefore Processing: \")\n",
    "print(payrates[0])\n",
    "print(payrates[10])\n",
    "\n",
    "# Checking if the string has a digit, because some categories are \"Not Disclosed by Recruiter\"\n",
    "# If we process the strings for numbers these will cause problems\n",
    "# Hence, we will run one more loop to clean it, we could have done it in the previous loop too,\n",
    "# But to demonstrate the problems such as the example having '2,25,000 P.A' as one of the values\n",
    "# We will clean it in another loop, where we will replace all values except for digits in a string \n",
    "# having at least one digit by \"\" which will remove whitespaces and \",\" and \"P.A\" or any other strings\n",
    "for i in range(len(payrates)):\n",
    "    for j in range(len(payrates[i])):\n",
    "        payrates[i][j] = re.sub(r'[^0-9]','',payrates[i][j])\n",
    "# An Example after processing\n",
    "print(\"\\nAfter Processing: \")\n",
    "print(payrates[0])\n",
    "print(payrates[10])"
   ]
  },
  {
   "cell_type": "markdown",
   "metadata": {},
   "source": [
    "#### Field 11 - Post Date"
   ]
  },
  {
   "cell_type": "code",
   "execution_count": 59,
   "metadata": {},
   "outputs": [
    {
     "name": "stdout",
     "output_type": "stream",
     "text": [
      "postdate\n",
      "<class 'str'>\n",
      "2016-10-13 16:20:56 +0000\n",
      "2016-05-21\n",
      "nan\n"
     ]
    }
   ],
   "source": [
    "# Field-11\n",
    "# Post Date\n",
    "print(heads[10])\n",
    "print(type(heads[10]))\n",
    "\n",
    "# An example name looks like\n",
    "print(dataSet[heads[10]][40])\n",
    "\n",
    "# We can split this field using \" \" and keep the first element as it is the one containing date\n",
    "# The values seem timestamped and hence in a uniform format\n",
    "dates=[]\n",
    "for i in range(len(dataSet)):\n",
    "    dates.append(str(dataSet[heads[10]][i]).split(\" \")[0])\n",
    "    \n",
    "# An example of dates, some examples may have 'nan' as well which was found during analysis\n",
    "print(dates[0])\n",
    "\n",
    "# nan value existing in dates\n",
    "print(max(dates))"
   ]
  },
  {
   "cell_type": "markdown",
   "metadata": {},
   "source": [
    "#### Field 12 - Site Name"
   ]
  },
  {
   "cell_type": "code",
   "execution_count": 60,
   "metadata": {},
   "outputs": [
    {
     "name": "stdout",
     "output_type": "stream",
     "text": [
      "site_name\n",
      "<class 'str'>\n",
      "nan\n"
     ]
    }
   ],
   "source": [
    "# Field-12\n",
    "# Site Name\n",
    "print(heads[11])\n",
    "print(type(heads[11]))\n",
    "\n",
    "# A lot of values in this field were nan(Not a Number)\n",
    "# An example name looks like\n",
    "print(dataSet[heads[11]][90])"
   ]
  },
  {
   "cell_type": "markdown",
   "metadata": {},
   "source": [
    "#### Field 13 - Skills"
   ]
  },
  {
   "cell_type": "code",
   "execution_count": 61,
   "metadata": {},
   "outputs": [
    {
     "name": "stdout",
     "output_type": "stream",
     "text": [
      "skills\n",
      "<class 'str'>\n",
      "IT Software - Application Programming\n"
     ]
    }
   ],
   "source": [
    "# Field-13\n",
    "# Skills\n",
    "print(heads[12])\n",
    "print(type(heads[12]))\n",
    "\n",
    "# An example name looks like\n",
    "print(dataSet[heads[12]][100])"
   ]
  },
  {
   "cell_type": "markdown",
   "metadata": {},
   "source": [
    "#### Field 14 - Unique Id"
   ]
  },
  {
   "cell_type": "code",
   "execution_count": 62,
   "metadata": {},
   "outputs": [
    {
     "name": "stdout",
     "output_type": "stream",
     "text": [
      "uniq_id\n",
      "<class 'str'>\n",
      "43b19632647068535437c774b6ca6cf8\n"
     ]
    }
   ],
   "source": [
    "# Field-14\n",
    "# Unique Id\n",
    "print(heads[13])\n",
    "print(type(heads[13]))\n",
    "\n",
    "# An example name looks like\n",
    "print(dataSet[heads[13]][0])\n",
    "# This can be used in a similar manner to the 'jobid' field"
   ]
  },
  {
   "cell_type": "markdown",
   "metadata": {
    "collapsed": true
   },
   "source": [
    "# This analysis can be used accordinly in the required projects as deep insight is given in for each field with initial cleaning where required"
   ]
  }
 ],
 "metadata": {
  "kernelspec": {
   "display_name": "Python 3",
   "language": "python",
   "name": "python3"
  },
  "language_info": {
   "codemirror_mode": {
    "name": "ipython",
    "version": 3
   },
   "file_extension": ".py",
   "mimetype": "text/x-python",
   "name": "python",
   "nbconvert_exporter": "python",
   "pygments_lexer": "ipython3",
   "version": "3.6.1"
  }
 },
 "nbformat": 4,
 "nbformat_minor": 2
}
